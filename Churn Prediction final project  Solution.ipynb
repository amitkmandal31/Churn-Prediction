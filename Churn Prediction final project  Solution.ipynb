{
 "cells": [
  {
   "cell_type": "markdown",
   "metadata": {},
   "source": [
    "## Churn Prediction"
   ]
  },
  {
   "cell_type": "code",
   "execution_count": 1,
   "metadata": {},
   "outputs": [
    {
     "data": {
      "text/plain": [
       "'C:\\\\Users\\\\amit\\\\Downloads\\\\Final project problem statement and dataset-amitmandal31598@gmail.com-amitmandal31598@gmail.com\\\\Final project problem statement and dataset'"
      ]
     },
     "execution_count": 1,
     "metadata": {},
     "output_type": "execute_result"
    }
   ],
   "source": [
    "pwd"
   ]
  },
  {
   "cell_type": "code",
   "execution_count": 2,
   "metadata": {},
   "outputs": [],
   "source": [
    "import numpy as np\n",
    "import pandas as pd\n",
    "import seaborn as sns\n",
    "import matplotlib.pyplot as plt\n",
    "%matplotlib inline\n",
    "from sklearn.preprocessing import LabelEncoder\n",
    "from sklearn.preprocessing import StandardScaler\n",
    "from sklearn.linear_model import LogisticRegression\n",
    "from sklearn.model_selection import KFold, StratifiedKFold, train_test_split\n",
    "from sklearn.metrics import roc_auc_score, accuracy_score, confusion_matrix, roc_curve, precision_score, recall_score, precision_recall_curve\n",
    "import warnings\n",
    "warnings.simplefilter(action='ignore', category=FutureWarning)\n",
    "warnings.simplefilter(action='ignore', category=UserWarning)"
   ]
  },
  {
   "cell_type": "markdown",
   "metadata": {},
   "source": [
    "### Loading Data"
   ]
  },
  {
   "cell_type": "code",
   "execution_count": 3,
   "metadata": {},
   "outputs": [],
   "source": [
    "df = pd.read_csv('churn_prediction.csv')"
   ]
  },
  {
   "cell_type": "code",
   "execution_count": 4,
   "metadata": {},
   "outputs": [
    {
     "data": {
      "text/plain": [
       "customer_id                          0\n",
       "vintage                              0\n",
       "age                                  0\n",
       "gender                             525\n",
       "dependents                        2463\n",
       "occupation                          80\n",
       "city                               803\n",
       "customer_nw_category                 0\n",
       "branch_code                          0\n",
       "days_since_last_transaction       3223\n",
       "current_balance                      0\n",
       "previous_month_end_balance           0\n",
       "average_monthly_balance_prevQ        0\n",
       "average_monthly_balance_prevQ2       0\n",
       "current_month_credit                 0\n",
       "previous_month_credit                0\n",
       "current_month_debit                  0\n",
       "previous_month_debit                 0\n",
       "current_month_balance                0\n",
       "previous_month_balance               0\n",
       "churn                                0\n",
       "dtype: int64"
      ]
     },
     "execution_count": 4,
     "metadata": {},
     "output_type": "execute_result"
    }
   ],
   "source": [
    "pd.isnull(df).sum()"
   ]
  },
  {
   "cell_type": "markdown",
   "metadata": {},
   "source": [
    "#### Gender\n",
    "\n"
   ]
  },
  {
   "cell_type": "code",
   "execution_count": 5,
   "metadata": {
    "scrolled": true
   },
   "outputs": [
    {
     "data": {
      "text/plain": [
       "Male      16548\n",
       "Female    11309\n",
       "Name: gender, dtype: int64"
      ]
     },
     "execution_count": 5,
     "metadata": {},
     "output_type": "execute_result"
    }
   ],
   "source": [
    "df['gender'].value_counts()"
   ]
  },
  {
   "cell_type": "code",
   "execution_count": 6,
   "metadata": {},
   "outputs": [],
   "source": [
    "#Convert Gender\n",
    "dict_gender = {'Male': 1, 'Female':0}\n",
    "df.replace({'gender': dict_gender}, inplace = True)\n",
    "\n",
    "df['gender'] = df['gender'].fillna(-1)"
   ]
  },
  {
   "cell_type": "markdown",
   "metadata": {},
   "source": [
    "#### Dependents, occupation and city with mode"
   ]
  },
  {
   "cell_type": "code",
   "execution_count": 7,
   "metadata": {},
   "outputs": [
    {
     "data": {
      "text/plain": [
       "0.0     21435\n",
       "2.0      2150\n",
       "1.0      1395\n",
       "3.0       701\n",
       "4.0       179\n",
       "5.0        41\n",
       "6.0         8\n",
       "7.0         3\n",
       "36.0        1\n",
       "52.0        1\n",
       "25.0        1\n",
       "9.0         1\n",
       "50.0        1\n",
       "32.0        1\n",
       "8.0         1\n",
       "Name: dependents, dtype: int64"
      ]
     },
     "execution_count": 7,
     "metadata": {},
     "output_type": "execute_result"
    }
   ],
   "source": [
    "df['dependents'].value_counts()"
   ]
  },
  {
   "cell_type": "code",
   "execution_count": 8,
   "metadata": {},
   "outputs": [
    {
     "data": {
      "text/plain": [
       "self_employed    17476\n",
       "salaried          6704\n",
       "student           2058\n",
       "retired           2024\n",
       "company             40\n",
       "Name: occupation, dtype: int64"
      ]
     },
     "execution_count": 8,
     "metadata": {},
     "output_type": "execute_result"
    }
   ],
   "source": [
    "df['occupation'].value_counts()"
   ]
  },
  {
   "cell_type": "code",
   "execution_count": 9,
   "metadata": {},
   "outputs": [],
   "source": [
    "df['dependents'] = df['dependents'].fillna(0)\n",
    "df['occupation'] = df['occupation'].fillna('self_employed')"
   ]
  },
  {
   "cell_type": "code",
   "execution_count": 10,
   "metadata": {},
   "outputs": [],
   "source": [
    "df['city'] = df['city'].fillna(1020)"
   ]
  },
  {
   "cell_type": "code",
   "execution_count": 11,
   "metadata": {},
   "outputs": [],
   "source": [
    "df['days_since_last_transaction'] = df['days_since_last_transaction'].fillna(999)"
   ]
  },
  {
   "cell_type": "markdown",
   "metadata": {},
   "source": [
    "### Dummies with Multiple Categories"
   ]
  },
  {
   "cell_type": "code",
   "execution_count": 12,
   "metadata": {},
   "outputs": [],
   "source": [
    "# Convert occupation to one hot encoded features\n",
    "df = pd.concat([df,pd.get_dummies(df['occupation'],prefix = str('occupation'),prefix_sep='_')],axis = 1)"
   ]
  },
  {
   "cell_type": "markdown",
   "metadata": {},
   "source": [
    "### Scaling Numerical Features for Logistic Regression"
   ]
  },
  {
   "cell_type": "code",
   "execution_count": 13,
   "metadata": {},
   "outputs": [],
   "source": [
    "num_cols = ['customer_nw_category', 'current_balance',\n",
    "            'previous_month_end_balance', 'average_monthly_balance_prevQ2', 'average_monthly_balance_prevQ',\n",
    "            'current_month_credit','previous_month_credit', 'current_month_debit', \n",
    "            'previous_month_debit','current_month_balance', 'previous_month_balance']\n",
    "for i in num_cols:\n",
    "    df[i] = np.log(df[i] + 17000)\n",
    "\n",
    "std = StandardScaler()\n",
    "scaled = std.fit_transform(df[num_cols])\n",
    "scaled = pd.DataFrame(scaled,columns=num_cols)"
   ]
  },
  {
   "cell_type": "code",
   "execution_count": 14,
   "metadata": {},
   "outputs": [],
   "source": [
    "df_df_og = df.copy()\n",
    "df = df.drop(columns = num_cols,axis = 1)\n",
    "df = df.merge(scaled,left_index=True,right_index=True,how = \"left\")"
   ]
  },
  {
   "cell_type": "code",
   "execution_count": 15,
   "metadata": {},
   "outputs": [],
   "source": [
    "y_all = df.churn\n",
    "df = df.drop(['churn','customer_id','occupation'],axis = 1)"
   ]
  },
  {
   "cell_type": "markdown",
   "metadata": {},
   "source": [
    "## Model Building and Evaluation Metrics\n",
    "we could use the following 2 popular metrics:\n",
    "\n",
    "1. Recall\n",
    "2. Area under the Receiver operating characteristic curve\n",
    "\n"
   ]
  },
  {
   "cell_type": "markdown",
   "metadata": {},
   "source": [
    "### Conclusions from EDA\n"
   ]
  },
  {
   "cell_type": "markdown",
   "metadata": {},
   "source": [
    "### Baseline Columns"
   ]
  },
  {
   "cell_type": "code",
   "execution_count": 16,
   "metadata": {},
   "outputs": [],
   "source": [
    "baseline_cols = ['current_month_debit', 'previous_month_debit','current_balance','previous_month_end_balance','vintage'\n",
    "                 ,'occupation_retired', 'occupation_salaried','occupation_self_employed', 'occupation_student']"
   ]
  },
  {
   "cell_type": "code",
   "execution_count": 17,
   "metadata": {},
   "outputs": [],
   "source": [
    "df_baseline = df[baseline_cols]"
   ]
  },
  {
   "cell_type": "markdown",
   "metadata": {},
   "source": [
    "### Train Test Split to create a validation set"
   ]
  },
  {
   "cell_type": "code",
   "execution_count": 18,
   "metadata": {},
   "outputs": [],
   "source": [
    "# Splitting the data into Train and Validation set\n",
    "xtrain, xtest, ytrain, ytest = train_test_split(df_baseline,y_all,test_size=1/3, random_state=11, stratify = y_all)"
   ]
  },
  {
   "cell_type": "code",
   "execution_count": 19,
   "metadata": {},
   "outputs": [],
   "source": [
    "model = LogisticRegression()\n",
    "model.fit(xtrain,ytrain)\n",
    "pred = model.predict_proba(xtest)[:,1]"
   ]
  },
  {
   "cell_type": "markdown",
   "metadata": {},
   "source": [
    "### AUC ROC Curve & Confusion Matrix \n",
    "\n"
   ]
  },
  {
   "cell_type": "code",
   "execution_count": 20,
   "metadata": {},
   "outputs": [
    {
     "data": {
      "image/png": "[encoded data removed]",
      "text/plain": [
       "<Figure size 864x576 with 1 Axes>"
      ]
     },
     "metadata": {
      "needs_background": "light"
     },
     "output_type": "display_data"
    }
   ],
   "source": [
    "from sklearn.metrics import roc_curve\n",
    "fpr, tpr, _ = roc_curve(ytest,pred) \n",
    "auc = roc_auc_score(ytest, pred) \n",
    "plt.figure(figsize=(12,8)) \n",
    "plt.plot(fpr,tpr,label=\"Validation AUC-ROC=\"+str(auc)) \n",
    "x = np.linspace(0, 1, 1000)\n",
    "plt.plot(x, x, linestyle='-')\n",
    "plt.xlabel('False Positive Rate') \n",
    "plt.ylabel('True Positive Rate') \n",
    "plt.legend(loc=4) \n",
    "plt.show()"
   ]
  },
  {
   "cell_type": "code",
   "execution_count": 21,
   "metadata": {},
   "outputs": [],
   "source": [
    "# Confusion Matrix\n",
    "pred_val = model.predict(xtest)"
   ]
  },
  {
   "cell_type": "code",
   "execution_count": 22,
   "metadata": {},
   "outputs": [
    {
     "data": {
      "image/png": "[encoded data removed]",
      "text/plain": [
       "<Figure size 504x432 with 2 Axes>"
      ]
     },
     "metadata": {
      "needs_background": "light"
     },
     "output_type": "display_data"
    }
   ],
   "source": [
    "label_preds = pred_val\n",
    "\n",
    "cm = confusion_matrix(ytest,label_preds)\n",
    "\n",
    "\n",
    "def plot_confusion_matrix(cm, normalized=True, cmap='bone'):\n",
    "    plt.figure(figsize=[7, 6])\n",
    "    norm_cm = cm\n",
    "    if normalized:\n",
    "        norm_cm = cm.astype('float') / cm.sum(axis=1)[:, np.newaxis]\n",
    "        sns.heatmap(norm_cm, annot=cm, fmt='g', xticklabels=['Predicted: No','Predicted: Yes'], yticklabels=['Actual: No','Actual: Yes'], cmap=cmap)\n",
    "\n",
    "plot_confusion_matrix(cm, ['No', 'Yes'])"
   ]
  },
  {
   "cell_type": "code",
   "execution_count": 23,
   "metadata": {},
   "outputs": [
    {
     "data": {
      "text/plain": [
       "0.11580148317170565"
      ]
     },
     "execution_count": 23,
     "metadata": {},
     "output_type": "execute_result"
    }
   ],
   "source": [
    "# Recall Score\n",
    "recall_score(ytest,pred_val)"
   ]
  },
  {
   "cell_type": "markdown",
   "metadata": {},
   "source": [
    "### Cross validation"
   ]
  },
  {
   "cell_type": "code",
   "execution_count": 24,
   "metadata": {},
   "outputs": [],
   "source": [
    "def cv_score(ml_model, rstate = 12, thres = 0.5, cols = df.columns):\n",
    "    i = 1\n",
    "    cv_scores = []\n",
    "    df1 = df.copy()\n",
    "    df1 = df[cols]\n",
    "    \n",
    "    # 5 Fold cross validation stratified on the basis of target\n",
    "    kf = StratifiedKFold(n_splits=5,random_state=rstate,shuffle=True)\n",
    "    for df_index,test_index in kf.split(df1,y_all):\n",
    "        print('\\n{} of kfold {}'.format(i,kf.n_splits))\n",
    "        xtr,xvl = df1.loc[df_index],df1.loc[test_index]\n",
    "        ytr,yvl = y_all.loc[df_index],y_all.loc[test_index]\n",
    "            \n",
    "        # Define model for fitting on the training set for each fold\n",
    "        model = ml_model\n",
    "        model.fit(xtr, ytr)\n",
    "        pred_probs = model.predict_proba(xvl)\n",
    "        pp = []\n",
    "         \n",
    "        # Use threshold to define the classes based on probability values\n",
    "        for j in pred_probs[:,1]:\n",
    "            if j>thres:\n",
    "                pp.append(1)\n",
    "            else:\n",
    "                pp.append(0)\n",
    "         \n",
    "        # Calculate scores for each fold and print\n",
    "        pred_val = pp\n",
    "        roc_score = roc_auc_score(yvl,pred_probs[:,1])\n",
    "        recall = recall_score(yvl,pred_val)\n",
    "        precision = precision_score(yvl,pred_val)\n",
    "        sufix = \"\"\n",
    "        msg = \"\"\n",
    "        msg += \"ROC AUC Score: {}, Recall Score: {:.4f}, Precision Score: {:.4f} \".format(roc_score, recall,precision)\n",
    "        print(\"{}\".format(msg))\n",
    "         \n",
    "         # Save scores\n",
    "        cv_scores.append(roc_score)\n",
    "        i+=1\n",
    "    return cv_scores"
   ]
  },
  {
   "cell_type": "code",
   "execution_count": 25,
   "metadata": {},
   "outputs": [
    {
     "name": "stdout",
     "output_type": "stream",
     "text": [
      "\n",
      "1 of kfold 5\n",
      "ROC AUC Score: 0.7644836090843695, Recall Score: 0.0751, Precision Score: 0.5766 \n",
      "\n",
      "2 of kfold 5\n",
      "ROC AUC Score: 0.779809885931559, Recall Score: 0.0751, Precision Score: 0.6695 \n",
      "\n",
      "3 of kfold 5\n",
      "ROC AUC Score: 0.755284052784612, Recall Score: 0.1350, Precision Score: 0.6425 \n",
      "\n",
      "4 of kfold 5\n",
      "ROC AUC Score: 0.7582070977015274, Recall Score: 0.1169, Precision Score: 0.6508 \n",
      "\n",
      "5 of kfold 5\n",
      "ROC AUC Score: 0.7622114574973358, Recall Score: 0.1112, Precision Score: 0.5821 \n"
     ]
    }
   ],
   "source": [
    "baseline_scores = cv_score(LogisticRegression(), cols = baseline_cols)"
   ]
  },
  {
   "cell_type": "markdown",
   "metadata": {},
   "source": [
    "Now let us try using all columns available to check if we get significant improvement."
   ]
  },
  {
   "cell_type": "code",
   "execution_count": 26,
   "metadata": {},
   "outputs": [
    {
     "name": "stdout",
     "output_type": "stream",
     "text": [
      "\n",
      "1 of kfold 5\n",
      "ROC AUC Score: 0.7339270373034631, Recall Score: 0.1150, Precision Score: 0.5171 \n",
      "\n",
      "2 of kfold 5\n",
      "ROC AUC Score: 0.7678530469633131, Recall Score: 0.1968, Precision Score: 0.6854 \n",
      "\n",
      "3 of kfold 5\n",
      "ROC AUC Score: 0.7392581851013723, Recall Score: 0.1683, Precision Score: 0.5728 \n",
      "\n",
      "4 of kfold 5\n",
      "ROC AUC Score: 0.7297401472890654, Recall Score: 0.1122, Precision Score: 0.6277 \n",
      "\n",
      "5 of kfold 5\n",
      "ROC AUC Score: 0.7587792078361203, Recall Score: 0.1730, Precision Score: 0.6007 \n"
     ]
    }
   ],
   "source": [
    "all_feat_scores = cv_score(LogisticRegression())"
   ]
  },
  {
   "cell_type": "markdown",
   "metadata": {},
   "source": [
    "There is some improvement in both ROC AUC Scores and Precision/Recall Scores."
   ]
  },
  {
   "cell_type": "code",
   "execution_count": 27,
   "metadata": {},
   "outputs": [],
   "source": [
    "from sklearn.ensemble import RandomForestClassifier"
   ]
  },
  {
   "cell_type": "code",
   "execution_count": 28,
   "metadata": {},
   "outputs": [
    {
     "name": "stdout",
     "output_type": "stream",
     "text": [
      "\n",
      "1 of kfold 5\n",
      "ROC AUC Score: 0.8190060630973177, Recall Score: 0.3517, Precision Score: 0.7298 \n",
      "\n",
      "2 of kfold 5\n",
      "ROC AUC Score: 0.8439487205837015, Recall Score: 0.3593, Precision Score: 0.7699 \n",
      "\n",
      "3 of kfold 5\n",
      "ROC AUC Score: 0.8346016855355428, Recall Score: 0.3451, Precision Score: 0.7500 \n",
      "\n",
      "4 of kfold 5\n",
      "ROC AUC Score: 0.8275120835909849, Recall Score: 0.3603, Precision Score: 0.7475 \n",
      "\n",
      "5 of kfold 5\n",
      "ROC AUC Score: 0.8235497635086242, Recall Score: 0.3498, Precision Score: 0.7404 \n"
     ]
    }
   ],
   "source": [
    "rf_all_features = cv_score(RandomForestClassifier(n_estimators=100, max_depth=8))"
   ]
  },
  {
   "cell_type": "markdown",
   "metadata": {},
   "source": [
    "## Comparison of Different model fold wise\n",
    "\n",
    "Let us visualise the cross validation scores for each fold for the following 3 models and observe differences:\n",
    "* Baseline Model\n",
    "* Model based on all features\n",
    "* Model based on top 10 features obtained from RFE"
   ]
  },
  {
   "cell_type": "code",
   "execution_count": 29,
   "metadata": {},
   "outputs": [],
   "source": [
    "results_df = pd.DataFrame({'baseline':baseline_scores, 'all_feats': all_feat_scores, 'random_forest': rf_all_features})"
   ]
  },
  {
   "cell_type": "code",
   "execution_count": 30,
   "metadata": {},
   "outputs": [
    {
     "data": {
      "text/plain": [
       "<matplotlib.axes._subplots.AxesSubplot at 0x23683a9fc08>"
      ]
     },
     "execution_count": 30,
     "metadata": {},
     "output_type": "execute_result"
    },
    {
     "data": {
      "image/png": "[encoded data removed]",
      "text/plain": [
       "<Figure size 432x288 with 1 Axes>"
      ]
     },
     "metadata": {
      "needs_background": "light"
     },
     "output_type": "display_data"
    }
   ],
   "source": [
    "results_df.plot(y=[\"baseline\", \"all_feats\", \"random_forest\"], kind=\"bar\")"
   ]
  },
  {
   "cell_type": "markdown",
   "metadata": {},
   "source": [
    "Here, the model to get the best results."
   ]
  },
  {
   "cell_type": "code",
   "execution_count": null,
   "metadata": {},
   "outputs": [],
   "source": []
  }
 ],
 "metadata": {
  "kernelspec": {
   "display_name": "Python 3",
   "language": "python",
   "name": "python3"
  },
  "language_info": {
   "codemirror_mode": {
    "name": "ipython",
    "version": 3
   },
   "file_extension": ".py",
   "mimetype": "text/x-python",
   "name": "python",
   "nbconvert_exporter": "python",
   "pygments_lexer": "ipython3",
   "version": "3.8.5"
  }
 },
 "nbformat": 4,
 "nbformat_minor": 2
}
